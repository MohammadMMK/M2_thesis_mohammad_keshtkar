{
  "cells": [
    {
      "cell_type": "raw",
      "metadata": {},
      "source": [
        "---\n",
        "title: \"Thesis Results\"\n",
        "format: pdf\n",
        "execute:\n",
        "  python: \"C:/Users/gmoha/anaconda3/envs/writingEnv/python.exe\"\n",
        "---"
      ],
      "id": "241eddbf"
    },
    {
      "cell_type": "code",
      "metadata": {},
      "source": [
        "import pandas as pd\n",
        "\n",
        "# Read the CSV file\n",
        "data = pd.read_csv('..\\Results\\clean_data.csv')\n",
        "\n",
        "accuracy_value = data.loc[4, 'pid']\n",
        "\n",
        "# Display the value\n",
        "accuracy_value"
      ],
      "id": "50db17b8",
      "execution_count": null,
      "outputs": []
    },
    {
      "cell_type": "markdown",
      "metadata": {},
      "source": [
        "```{markdown}\n",
        "\n",
        "The accuracy value from the 5th row is `{{ accuracy_value }}`.\n",
        "```"
      ],
      "id": "7f5fb7b3"
    }
  ],
  "metadata": {
    "kernelspec": {
      "name": "python3",
      "language": "python",
      "display_name": "Python 3 (ipykernel)"
    }
  },
  "nbformat": 4,
  "nbformat_minor": 5
}